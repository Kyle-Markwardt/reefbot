{
 "cells": [
  {
   "cell_type": "code",
   "execution_count": null,
   "metadata": {},
   "outputs": [],
   "source": [
    "# This script is for creating the list of URLs of the videos for transcription"
   ]
  },
  {
   "cell_type": "code",
   "execution_count": 4,
   "metadata": {},
   "outputs": [],
   "source": [
    "import pandas as pd\n",
    "from pprint import pprint"
   ]
  },
  {
   "cell_type": "code",
   "execution_count": null,
   "metadata": {},
   "outputs": [],
   "source": [
    "API_KEY = \"KEY_HERE\"\n",
    "\n",
    "# Create a YouTube API client\n",
    "youtube = build('youtube', 'v3', developerKey=API_KEY)"
   ]
  },
  {
   "cell_type": "code",
   "execution_count": 5,
   "metadata": {},
   "outputs": [
    {
     "data": {
      "text/html": [
       "<div>\n",
       "<style scoped>\n",
       "    .dataframe tbody tr th:only-of-type {\n",
       "        vertical-align: middle;\n",
       "    }\n",
       "\n",
       "    .dataframe tbody tr th {\n",
       "        vertical-align: top;\n",
       "    }\n",
       "\n",
       "    .dataframe thead th {\n",
       "        text-align: right;\n",
       "    }\n",
       "</style>\n",
       "<table border=\"1\" class=\"dataframe\">\n",
       "  <thead>\n",
       "    <tr style=\"text-align: right;\">\n",
       "      <th></th>\n",
       "      <th>playlist</th>\n",
       "      <th>video_url</th>\n",
       "      <th>video_title</th>\n",
       "      <th>transcribed</th>\n",
       "    </tr>\n",
       "  </thead>\n",
       "  <tbody>\n",
       "  </tbody>\n",
       "</table>\n",
       "</div>"
      ],
      "text/plain": [
       "Empty DataFrame\n",
       "Columns: [playlist, video_url, video_title, transcribed]\n",
       "Index: []"
      ]
     },
     "execution_count": 5,
     "metadata": {},
     "output_type": "execute_result"
    }
   ],
   "source": [
    "# create dataframe with ['playlist', 'video_url', 'video_title', 'tanscribed']\n",
    "videos_df = pd.DataFrame(columns=['playlist', 'video_url', 'video_title', 'transcribed'])\n",
    "videos_df.head()"
   ]
  },
  {
   "cell_type": "code",
   "execution_count": 6,
   "metadata": {},
   "outputs": [],
   "source": [
    "# create dictionary of playlist urls\n",
    "# url_base = https://www.youtube.com/playlist?list=\n",
    "playlist_urls = {'52_weeks' : 'PLBaMLrfToJyybUT18OE3fMomFb9XU0ffC',\n",
    "                 '52_FAQ' : 'PLBaMLrfToJyxF2RznuIpcLyUpLU3kLueV',\n",
    "                 '52_second_edition' : 'PLBaMLrfToJyyhebzEduI7AK0nWHMlcDgK',\n",
    "                 '11_days' : 'PLBaMLrfToJyznPoFK7iyxmsOHqxcRrm5m',\n",
    "                 'biome' : 'PLBaMLrfToJyyywPKnlV7P--e6VG3umjW6',\n",
    "                 'interviews' : 'PLBaMLrfToJywZby8_bU4fFsCUAq9BANsz',\n",
    "                 'MACNA' : 'PLBaMLrfToJyyToilXCR5jLFMoemxwAE8x',\n",
    "                 'nutrients' : 'PLBaMLrfToJyzCXREqXjsl066OzEgvXfJr'\n",
    "                 }\n",
    "\n",
    "playlist_test = {'biome' : 'PLBaMLrfToJyyywPKnlV7P--e6VG3umjW6'}\n",
    "\n"
   ]
  },
  {
   "cell_type": "code",
   "execution_count": 8,
   "metadata": {},
   "outputs": [],
   "source": [
    "# Function to retrieve video URLs and titles from a playlist\n",
    "def get_playlist_videos(playlist_id):\n",
    "    videos = []\n",
    "    next_page_token = None\n",
    "\n",
    "    # Retrieve videos in the playlist\n",
    "    while True:\n",
    "        request = youtube.playlistItems().list(\n",
    "            part=\"snippet\",\n",
    "            #part=\"contentDetails\",\n",
    "            playlistId=playlist_id,\n",
    "            maxResults=100,  # Adjust as needed\n",
    "            pageToken=next_page_token\n",
    "        )\n",
    "        response = request.execute()\n",
    "\n",
    "        # Extract video URLs from the response\n",
    "        for item in response['items']:\n",
    "            video_id = item['snippet']['resourceId']['videoId']\n",
    "            #video_id = item['contentDetails']['videoId']\n",
    "            video_url = f\"https://www.youtube.com/watch?v={video_id}\"\n",
    "            video_title = item['snippet']['title']\n",
    "            videos.append({'playlist': playlist_id, 'title': video_title, 'url': video_url, 'video_id':video_id, 'transcirbed': False})\n",
    "\n",
    "        # Check if there are more pages of results\n",
    "        next_page_token = response.get('nextPageToken')\n",
    "        if not next_page_token:\n",
    "            break\n",
    "\n",
    "    return videos\n",
    "\n",
    "# Function to retrieve captions for a video\n",
    "def get_captions(video_id):\n",
    "    captions = []\n",
    "\n",
    "    # Retrieve captions for the video\n",
    "    request = youtube.captions().list(\n",
    "        part=\"snippet\",\n",
    "        videoId=video_id\n",
    "    )\n",
    "    response = request.execute()\n",
    "\n",
    "    # Extract captions from the response\n",
    "    for item in response['items']:\n",
    "        caption_id = item['id']\n",
    "        caption_language = item['snippet']['language']\n",
    "        captions.append({'id': caption_id, 'language': caption_language})\n",
    "\n",
    "    return captions\n",
    "\n",
    "# Function to download and parse caption file to extract transcript text\n",
    "def download_and_parse_caption(caption_id):\n",
    "    # Download the caption file\n",
    "    request = youtube.captions().download(\n",
    "        id=caption_id,\n",
    "        tfmt=\"srt\"  # Choose the caption format (e.g., \"srt\", \"vtt\")\n",
    "    )\n",
    "    caption_response = request.execute()\n",
    "\n",
    "    # Parse the caption file to extract transcript text\n",
    "    transcript_text = caption_response.decode('utf-8')  # Assuming the response is in UTF-8 encoding\n",
    "\n",
    "    return transcript_text"
   ]
  },
  {
   "cell_type": "code",
   "execution_count": 9,
   "metadata": {},
   "outputs": [
    {
     "ename": "NameError",
     "evalue": "name 'youtube' is not defined",
     "output_type": "error",
     "traceback": [
      "\u001b[1;31m---------------------------------------------------------------------------\u001b[0m",
      "\u001b[1;31mNameError\u001b[0m                                 Traceback (most recent call last)",
      "Cell \u001b[1;32mIn[9], line 4\u001b[0m\n\u001b[0;32m      1\u001b[0m \u001b[38;5;66;03m### MAIN\u001b[39;00m\n\u001b[0;32m      3\u001b[0m \u001b[38;5;28;01mfor\u001b[39;00m playlist \u001b[38;5;129;01min\u001b[39;00m playlist_test:\n\u001b[1;32m----> 4\u001b[0m     videos \u001b[38;5;241m=\u001b[39m get_playlist_videos(playlist)\n\u001b[0;32m      6\u001b[0m \u001b[38;5;28mprint\u001b[39m(videos)\n",
      "Cell \u001b[1;32mIn[8], line 8\u001b[0m, in \u001b[0;36mget_playlist_videos\u001b[1;34m(playlist_id)\u001b[0m\n\u001b[0;32m      6\u001b[0m \u001b[38;5;66;03m# Retrieve videos in the playlist\u001b[39;00m\n\u001b[0;32m      7\u001b[0m \u001b[38;5;28;01mwhile\u001b[39;00m \u001b[38;5;28;01mTrue\u001b[39;00m:\n\u001b[1;32m----> 8\u001b[0m     request \u001b[38;5;241m=\u001b[39m youtube\u001b[38;5;241m.\u001b[39mplaylistItems()\u001b[38;5;241m.\u001b[39mlist(\n\u001b[0;32m      9\u001b[0m         part\u001b[38;5;241m=\u001b[39m\u001b[38;5;124m\"\u001b[39m\u001b[38;5;124msnippet\u001b[39m\u001b[38;5;124m\"\u001b[39m,\n\u001b[0;32m     10\u001b[0m         \u001b[38;5;66;03m#part=\"contentDetails\",\u001b[39;00m\n\u001b[0;32m     11\u001b[0m         playlistId\u001b[38;5;241m=\u001b[39mplaylist_id,\n\u001b[0;32m     12\u001b[0m         maxResults\u001b[38;5;241m=\u001b[39m\u001b[38;5;241m100\u001b[39m,  \u001b[38;5;66;03m# Adjust as needed\u001b[39;00m\n\u001b[0;32m     13\u001b[0m         pageToken\u001b[38;5;241m=\u001b[39mnext_page_token\n\u001b[0;32m     14\u001b[0m     )\n\u001b[0;32m     15\u001b[0m     response \u001b[38;5;241m=\u001b[39m request\u001b[38;5;241m.\u001b[39mexecute()\n\u001b[0;32m     17\u001b[0m     \u001b[38;5;66;03m# Extract video URLs from the response\u001b[39;00m\n",
      "\u001b[1;31mNameError\u001b[0m: name 'youtube' is not defined"
     ]
    }
   ],
   "source": [
    "### MAIN\n",
    "\n",
    "for playlist in playlist_test:\n",
    "    videos = get_playlist_videos(playlist)\n",
    "\n",
    "print(videos)\n"
   ]
  },
  {
   "cell_type": "markdown",
   "metadata": {},
   "source": []
  },
  {
   "cell_type": "code",
   "execution_count": null,
   "metadata": {},
   "outputs": [],
   "source": [
    "video_id = \"YOUR_VIDEO_ID_HERE\"\n",
    "captions_data = get_captions(video_id)\n",
    "\n",
    "# Create a directory to save transcripts\n",
    "if not os.path.exists(\"transcripts\"):\n",
    "    os.makedirs(\"transcripts\")\n",
    "\n",
    "# Download and save transcripts for each caption\n",
    "for caption in captions_data:\n",
    "    caption_id = caption['id']\n",
    "    transcript_text = download_and_parse_caption(caption_id)\n",
    "\n",
    "    # Save transcript text to a file\n",
    "    file_name = f\"transcripts/{video_id}_{caption_id}.txt\"\n",
    "    with open(file_name, \"w\", encoding=\"utf-8\") as file:\n",
    "        file.write(transcript_text)\n",
    "\n",
    "    print(f\"Transcript saved to {file_name}\")"
   ]
  }
 ],
 "metadata": {
  "kernelspec": {
   "display_name": "base",
   "language": "python",
   "name": "python3"
  },
  "language_info": {
   "codemirror_mode": {
    "name": "ipython",
    "version": 3
   },
   "file_extension": ".py",
   "mimetype": "text/x-python",
   "name": "python",
   "nbconvert_exporter": "python",
   "pygments_lexer": "ipython3",
   "version": "3.11.7"
  }
 },
 "nbformat": 4,
 "nbformat_minor": 2
}

{
 "cells": [
  {
   "cell_type": "code",
   "execution_count": 1,
   "metadata": {},
   "outputs": [],
   "source": [
    "import os\n",
    "import json\n",
    "from dotenv import load_dotenv\n",
    "import pandas as pd\n",
    "from google.auth.transport.requests import Request as AuthRequest\n",
    "from googleapiclient.discovery import build\n",
    "import httplib2\n",
    "from pprint import pprint\n",
    "\n",
    "# Load environment variables from .env file\n",
    "load_dotenv()\n",
    "\n",
    "# Access API key\n",
    "yt_api_key = os.getenv(\"YOUTUBE_API_KEY\")\n"
   ]
  },
  {
   "cell_type": "code",
   "execution_count": 2,
   "metadata": {},
   "outputs": [],
   "source": [
    "# Create a YouTube API client\n",
    "youtube = build('youtube', 'v3', developerKey=yt_api_key)\n"
   ]
  },
  {
   "cell_type": "code",
   "execution_count": 3,
   "metadata": {},
   "outputs": [],
   "source": [
    "# create dictionary of playlist urls\n",
    "# url_base = https://www.youtube.com/playlist?list=\n",
    "playlist_urls = {'52_weeks' : 'PLBaMLrfToJyybUT18OE3fMomFb9XU0ffC',\n",
    "                 '52_FAQ' : 'PLBaMLrfToJyxF2RznuIpcLyUpLU3kLueV',\n",
    "                 '52_second_edition' : 'PLBaMLrfToJyyhebzEduI7AK0nWHMlcDgK',\n",
    "                 '11_days' : 'PLBaMLrfToJyznPoFK7iyxmsOHqxcRrm5m',\n",
    "                 'biome' : 'PLBaMLrfToJyyywPKnlV7P--e6VG3umjW6',\n",
    "                 'interviews' : 'PLBaMLrfToJywZby8_bU4fFsCUAq9BANsz',\n",
    "                 'MACNA' : 'PLBaMLrfToJyyToilXCR5jLFMoemxwAE8x',\n",
    "                 'nutrients' : 'PLBaMLrfToJyzCXREqXjsl066OzEgvXfJr'\n",
    "                 }\n",
    "\n",
    "playlist_test = {'nutrients' : 'PLBaMLrfToJyzCXREqXjsl066OzEgvXfJr'}\n",
    "\n"
   ]
  },
  {
   "cell_type": "code",
   "execution_count": 4,
   "metadata": {},
   "outputs": [],
   "source": [
    "# Function to retrieve video URLs and titles from a playlist\n",
    "def get_playlist_videos(list_name, playlist_id):\n",
    "    videos = []\n",
    "    next_page_token = None\n",
    "\n",
    "    # Create an HTTP instance\n",
    "    http = httplib2.Http()\n",
    "\n",
    "    # Retrieve videos in the playlist\n",
    "    while True:\n",
    "        # Create the request object\n",
    "        request = youtube.playlistItems().list(\n",
    "            part=\"snippet\",\n",
    "            playlistId=playlist_id,\n",
    "            maxResults=100,  # Adjust as needed\n",
    "            pageToken=next_page_token\n",
    "        )\n",
    "\n",
    "        # Set the referer header to a valid domain\n",
    "        headers = {'referer': 'https://youtube.com'}\n",
    "\n",
    "        # Execute the request with the modified headers\n",
    "        response, content = http.request(request.uri, method=request.method, body=request.body, headers=headers)\n",
    "        \n",
    "        # Parse the JSON response\n",
    "        response_data = json.loads(content)\n",
    "        \n",
    "        # Print response data for debugging\n",
    "        #pprint(response_data)\n",
    "\n",
    "        # Extract video URLs from the response\n",
    "        for item in response_data.get('items', []):\n",
    "            video_id = item['snippet']['resourceId']['videoId']\n",
    "            #video_url = f\"https://www.youtube.com/watch?v={video_id}\"\n",
    "            video_title = item['snippet']['title']\n",
    "            videos.append({'playlist': list_name, 'title': video_title, 'video_id': video_id, 'transcribed': False})\n",
    "\n",
    "        # Check if there are more pages of results\n",
    "        next_page_token = response_data.get('nextPageToken')\n",
    "        if not next_page_token:\n",
    "            break\n",
    "\n",
    "    return videos\n"
   ]
  },
  {
   "cell_type": "code",
   "execution_count": 5,
   "metadata": {},
   "outputs": [],
   "source": [
    "# Initialize an empty list to store all video dictionaries\n",
    "all_videos = []\n",
    "\n",
    "# Iterate over the playlist IDs and retrieve videos\n",
    "for name, id in playlist_urls.items():\n",
    "    videos = get_playlist_videos(name, id)\n",
    "    all_videos.extend(videos)  # Extend the list with videos from the current playlist\n",
    "\n",
    "# Create a DataFrame from the list of dictionaries\n",
    "videos_df = pd.DataFrame(all_videos)\n"
   ]
  },
  {
   "cell_type": "code",
   "execution_count": 6,
   "metadata": {},
   "outputs": [],
   "source": [
    "# Save File\n",
    "os.makedirs('../resources/video_list', exist_ok=True)\n",
    "videos_df.to_csv('../resources/video_list/videos.csv', index=False)"
   ]
  },
  {
   "cell_type": "code",
   "execution_count": null,
   "metadata": {},
   "outputs": [],
   "source": []
  }
 ],
 "metadata": {
  "kernelspec": {
   "display_name": "base",
   "language": "python",
   "name": "python3"
  },
  "language_info": {
   "codemirror_mode": {
    "name": "ipython",
    "version": 3
   },
   "file_extension": ".py",
   "mimetype": "text/x-python",
   "name": "python",
   "nbconvert_exporter": "python",
   "pygments_lexer": "ipython3",
   "version": "3.12.3"
  }
 },
 "nbformat": 4,
 "nbformat_minor": 2
}

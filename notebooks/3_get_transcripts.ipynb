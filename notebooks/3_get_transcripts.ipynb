{
 "cells": [
  {
   "cell_type": "markdown",
   "metadata": {},
   "source": [
    "## Get transcripts from videos with caption IDs"
   ]
  },
  {
   "cell_type": "code",
   "execution_count": null,
   "metadata": {},
   "outputs": [],
   "source": [
    "import os\n",
    "import json\n",
    "from dotenv import load_dotenv\n",
    "import pandas as pd\n",
    "from google.auth.transport.requests import Request as AuthRequest\n",
    "from googleapiclient.discovery import build\n",
    "import httplib2\n",
    "from pprint import pprint\n",
    "from datetime import timedelta\n",
    "import re\n",
    "import pandas as pd\n",
    "\n",
    "# Load environment variables from .env file\n",
    "load_dotenv()\n",
    "\n",
    "# Access API key\n",
    "yt_api_key = os.getenv(\"YOUTUBE_API_KEY\")"
   ]
  },
  {
   "cell_type": "code",
   "execution_count": null,
   "metadata": {},
   "outputs": [],
   "source": [
    "# Create a YouTube API client\n",
    "youtube = build('youtube', 'v3', developerKey=yt_api_key)"
   ]
  },
  {
   "cell_type": "code",
   "execution_count": null,
   "metadata": {},
   "outputs": [],
   "source": [
    "# Load videos list\n"
   ]
  },
  {
   "cell_type": "code",
   "execution_count": null,
   "metadata": {},
   "outputs": [],
   "source": [
    "# Function to download and parse caption file to extract transcript text\n",
    "def download_and_parse_caption(caption_id):\n",
    "    # Download the caption file\n",
    "    request = youtube.captions().download(\n",
    "        id=caption_id,\n",
    "        tfmt=\"srt\"  # Choose the caption format (e.g., \"srt\", \"vtt\")\n",
    "    )\n",
    "    caption_response = request.execute()\n",
    "\n",
    "    # Parse the caption file to extract transcript text\n",
    "    transcript_text = caption_response.decode('utf-8')  # Assuming the response is in UTF-8 encoding\n",
    "\n",
    "    return transcript_text"
   ]
  },
  {
   "cell_type": "code",
   "execution_count": null,
   "metadata": {},
   "outputs": [],
   "source": [
    "### MAIN ###\n",
    "\n",
    "for caption_id in \n",
    "captions_data = get_captions(video_id)\n",
    "\n",
    "# Create a directory to save transcripts\n",
    "if not os.path.exists(\"transcripts\"):\n",
    "    os.makedirs(\"transcripts\")\n",
    "\n",
    "# Download and save transcripts for each caption\n",
    "for caption in captions_data:\n",
    "    caption_id = caption['id']\n",
    "    transcript_text = download_and_parse_caption(caption_id)\n",
    "\n",
    "    # Save transcript text to a file\n",
    "    file_name = f\"transcripts/{video_id}_{caption_id}.txt\"\n",
    "    with open(file_name, \"w\", encoding=\"utf-8\") as file:\n",
    "        file.write(transcript_text)\n",
    "\n",
    "    print(f\"Transcript saved to {file_name}\")"
   ]
  }
 ],
 "metadata": {
  "language_info": {
   "name": "python"
  }
 },
 "nbformat": 4,
 "nbformat_minor": 2
}

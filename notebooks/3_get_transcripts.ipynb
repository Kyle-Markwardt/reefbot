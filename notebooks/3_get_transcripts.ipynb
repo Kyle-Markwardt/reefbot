{
 "cells": [
  {
   "cell_type": "markdown",
   "metadata": {},
   "source": [
    "## Get transcripts from videos with caption IDs"
   ]
  },
  {
   "cell_type": "code",
   "execution_count": null,
   "metadata": {},
   "outputs": [],
   "source": [
    "import os\n",
    "import json\n",
    "from dotenv import load_dotenv\n",
    "import pandas as pd\n",
    "from google.auth.transport.requests import Request as AuthRequest\n",
    "from googleapiclient.discovery import build\n",
    "import httplib2\n",
    "from pprint import pprint\n",
    "from datetime import timedelta\n",
    "import re\n",
    "import pandas as pd\n",
    "\n",
    "# Load environment variables from .env file\n",
    "load_dotenv()\n",
    "\n",
    "# Access API key\n",
    "yt_api_key = os.getenv(\"YOUTUBE_API_KEY\")"
   ]
  },
  {
   "cell_type": "code",
   "execution_count": null,
   "metadata": {},
   "outputs": [],
   "source": [
    "# Create a YouTube API client\n",
    "youtube = build('youtube', 'v3', developerKey=yt_api_key)"
   ]
  },
  {
   "cell_type": "code",
   "execution_count": null,
   "metadata": {},
   "outputs": [],
   "source": [
    "# Load videos list\n",
    "ready_to_transcribe = pd.read_csv('../resources/video_list/details_complete.csv')\n",
    "\n",
    "# Load the existing transcribed_videos CSV file if it exists, otherwise create an empty DataFrame\n",
    "if os.path.exists(\"../resources/video_list/transcribed_videos.csv\"):\n",
    "    transcribed_videos_df = pd.read_csv(\"../resources/video_list/transcribed_videos.csv\")\n",
    "else:\n",
    "    transcribed_videos_df = pd.DataFrame(columns=[\"video_id\", \"title\"])\n"
   ]
  },
  {
   "cell_type": "code",
   "execution_count": null,
   "metadata": {},
   "outputs": [],
   "source": [
    "# Function to download and parse caption file to extract transcript text\n",
    "def download_and_parse_caption(caption_id):\n",
    "    # Download the caption file\n",
    "    request = youtube.captions().download(\n",
    "        id=caption_id,\n",
    "        tfmt=\"srt\"  # Choose the caption format (e.g., \"srt\", \"vtt\")\n",
    "    )\n",
    "    caption_response = request.execute()\n",
    "\n",
    "    # Parse the caption file to extract transcript text\n",
    "    transcript_text = caption_response.decode('utf-8')  # Assuming the response is in UTF-8 encoding\n",
    "\n",
    "    return transcript_text"
   ]
  },
  {
   "cell_type": "code",
   "execution_count": null,
   "metadata": {},
   "outputs": [],
   "source": [
    "### MAIN ###\n",
    "\n",
    "# Create a directory to save transcripts\n",
    "if not os.path.exists(\"transcripts\"):\n",
    "    os.makedirs(\"transcripts\")\n",
    "\n",
    "# Download and save transcripts for each caption\n",
    "for index, row in ready_to_transcribe.iterrows():\n",
    "    caption_id = row['caption_id']\n",
    "    video_id = row['video_id']\n",
    "    title = row['title']\n",
    "\n",
    "    # Check if the video_id exists in the transcribed_videos DataFrame\n",
    "    if video_id in transcribed_videos_df['video_id'].values:\n",
    "        print(f\"Transcription for video ID {video_id} already exists. Skipping...\")\n",
    "        continue\n",
    "\n",
    "    transcript_text = download_and_parse_caption(caption_id)\n",
    "\n",
    "    # Construct the file name\n",
    "    file_name = f\"transcripts/{title}_{video_id}.txt\"\n",
    "\n",
    "    # Save transcript text to a file\n",
    "    with open(file_name, \"w\", encoding=\"utf-8\") as file:\n",
    "        file.write(transcript_text)\n",
    "\n",
    "    print(f\"Transcript saved to {file_name}\")\n",
    "\n",
    "    # Add the video to the transcribed_videos DataFrame\n",
    "    transcribed_videos_df = transcribed_videos_df.append({\"video_id\": video_id, \"title\": title}, ignore_index=True)\n",
    "\n",
    "# Save the updated transcribed_videos DataFrame to a CSV file\n",
    "transcribed_videos_df.to_csv(\"../resources/video_list/transcribed_videos.csv\", index=False)"
   ]
  }
 ],
 "metadata": {
  "kernelspec": {
   "display_name": "reefenvy",
   "language": "python",
   "name": "python3"
  },
  "language_info": {
   "name": "python",
   "version": "3.12.3"
  }
 },
 "nbformat": 4,
 "nbformat_minor": 2
}
